{
 "cells": [
  {
   "cell_type": "code",
   "execution_count": 1,
   "id": "a75ec6f7-63c8-4113-a79d-4d46aca47541",
   "metadata": {},
   "outputs": [],
   "source": [
    "# 데이터 로딩\n",
    "from src.data_loader import(\n",
    "load_building_info, load_and_merge,\n",
    "split_building_types, encode_building)\n",
    "from src.features import add_time_features, drop_unused_features\n",
    "\n",
    "building = load_building_info()\n",
    "\n",
    "# 건물 유형에 따른 데이터셋 분리\n",
    "building_types = ['IDC(전화국)']\n",
    "selected, rest = split_building_types(building, building_types=building_types)"
   ]
  },
  {
   "cell_type": "code",
   "execution_count": 2,
   "id": "dc622b99-385d-4b14-b6ac-48aab4622da8",
   "metadata": {},
   "outputs": [],
   "source": [
    "# 인코딩\n",
    "rest_encoded = encode_building(rest)\n",
    "\n",
    "train_df = load_and_merge(building_info=rest_encoded)\n",
    "# 이상치 제거: 전력 소비량 0 제외\n",
    "train_df = train_df[train_df['전력소비량(kWh)'] != 0]\n",
    "train_df = add_time_features(train_df)\n",
    "train_df = drop_unused_features(train_df)\n",
    "\n",
    "test_df = load_and_merge(path='data/test.csv', building_info=rest_encoded)\n",
    "test_df = add_time_features(test_df)\n",
    "test_df = drop_unused_features(test_df, columns=['건물번호', '냉방면적(m2)'])"
   ]
  },
  {
   "cell_type": "code",
   "execution_count": 3,
   "id": "8df865ab-bab3-4c7b-9c2f-b0ed3b0bede1",
   "metadata": {},
   "outputs": [],
   "source": [
    "# 전처리\n",
    "from src.features import (\n",
    "    fit_weather_pca, transform_weather_pca,\n",
    "    split_features_target,\n",
    "    scale_features, train_valid_split\n",
    ")\n",
    "\n",
    "scaler_w, pca_w = fit_weather_pca(train_df)\n",
    "train_df = transform_weather_pca(train_df, scaler_w, pca_w)\n",
    "\n",
    "X, y = split_features_target(train_df)\n",
    "X_scaled, scaler = scale_features(X)\n",
    "# X_train, X_valid, y_train, y_valid = train_valid_split(X_scaled, y)\n",
    "X_train, y_train = X_scaled, y # 검증 데이터셋을 나누지 않고 전수 학습\n",
    "\n",
    "# print(X_train.shape,X_valid.shape)  ## 열의 갯수가 같아야한다.\n",
    "#                                     ## y의 열 갯수는 1이여야함.\n",
    "# print(y_train.shape,y_valid.shape)  ## train , test 끼리는 행의 갯수가 같아야한다."
   ]
  },
  {
   "cell_type": "markdown",
   "id": "47cded38-c570-40f0-bcf6-062cfdf86380",
   "metadata": {
    "id": "-uqSqcANF3F8"
   },
   "source": [
    "#### Random Forest 모델링"
   ]
  },
  {
   "cell_type": "code",
   "execution_count": 4,
   "id": "509ae579-852b-4de3-8c77-44040b5d68be",
   "metadata": {},
   "outputs": [],
   "source": [
    "from src.models import train_model\n",
    "from sklearn.ensemble import RandomForestRegressor\n",
    "\n",
    "model = train_model(RandomForestRegressor, X_train, y_train, random_state=42, n_estimators=250)"
   ]
  },
  {
   "cell_type": "markdown",
   "id": "49332670-18d7-4bf4-a796-6c186e660c15",
   "metadata": {
    "id": "-uqSqcANF3F8"
   },
   "source": [
    "#### 예측"
   ]
  },
  {
   "cell_type": "code",
   "execution_count": 5,
   "id": "ac305eba-237a-4c28-81c0-a5554c92575d",
   "metadata": {},
   "outputs": [],
   "source": [
    "test_df = transform_weather_pca(test_df, scaler_w, pca_w)\n",
    "\n",
    "X_test = test_df.drop(columns=['기온(°C)', '강수량(mm)', '풍속(m/s)', '습도(%)', 'PCS용량(kW)', 'ESS저장용량(kWh)', 'num_date_time'])\n",
    "X_test_rest = scaler.transform(X_test)"
   ]
  },
  {
   "cell_type": "code",
   "execution_count": 6,
   "id": "a68f3f4d-8955-4c73-8c7f-e4b9fa55e8f6",
   "metadata": {},
   "outputs": [
    {
     "name": "stderr",
     "output_type": "stream",
     "text": [
      "C:\\Users\\user\\AppData\\Local\\Temp\\ipykernel_17032\\3543561994.py:3: SettingWithCopyWarning: \n",
      "A value is trying to be set on a copy of a slice from a DataFrame.\n",
      "Try using .loc[row_indexer,col_indexer] = value instead\n",
      "\n",
      "See the caveats in the documentation: https://pandas.pydata.org/pandas-docs/stable/user_guide/indexing.html#returning-a-view-versus-a-copy\n",
      "  submission_rest['answer'] = y_pred_rest\n"
     ]
    }
   ],
   "source": [
    "y_pred_rest = model.predict(X_test_rest)\n",
    "submission_rest = test_df[['num_date_time']]\n",
    "submission_rest['answer'] = y_pred_rest"
   ]
  },
  {
   "cell_type": "code",
   "execution_count": 7,
   "id": "e55997b6-b92d-442a-bd83-6ae5489668f7",
   "metadata": {},
   "outputs": [
    {
     "name": "stderr",
     "output_type": "stream",
     "text": [
      "C:\\Users\\user\\AppData\\Local\\Temp\\ipykernel_17032\\1177395502.py:31: SettingWithCopyWarning: \n",
      "A value is trying to be set on a copy of a slice from a DataFrame.\n",
      "Try using .loc[row_indexer,col_indexer] = value instead\n",
      "\n",
      "See the caveats in the documentation: https://pandas.pydata.org/pandas-docs/stable/user_guide/indexing.html#returning-a-view-versus-a-copy\n",
      "  submission_sel['answer'] = y_pred_sel\n"
     ]
    }
   ],
   "source": [
    "if building_types:\n",
    "    # 인코딩\n",
    "    select_encoded = encode_building(selected)\n",
    "    \n",
    "    train_df = load_and_merge(building_info=select_encoded)\n",
    "    # 이상치 제거: 전력 소비량 0 제외\n",
    "    train_df = train_df[train_df['전력소비량(kWh)'] != 0]\n",
    "    train_df = add_time_features(train_df)\n",
    "    train_df = drop_unused_features(train_df)\n",
    "\n",
    "    test_df = load_and_merge(path='data/test.csv', building_info=select_encoded)\n",
    "    test_df = add_time_features(test_df)\n",
    "    test_df = drop_unused_features(test_df, columns=['건물번호', '냉방면적(m2)'])\n",
    "    \n",
    "    scaler_w, pca_w = fit_weather_pca(train_df)\n",
    "    train_df = transform_weather_pca(train_df, scaler_w, pca_w)\n",
    "    \n",
    "    X, y = split_features_target(train_df)\n",
    "    X_scaled, scaler = scale_features(X)\n",
    "    X_train_sel, y_train_sel = X_scaled, y\n",
    "    \n",
    "    model_sel = train_model(RandomForestRegressor, X_train_sel, y_train_sel, random_state=42, n_estimators=250)\n",
    "\n",
    "    test_df = transform_weather_pca(test_df, scaler_w, pca_w)\n",
    "\n",
    "    X_test = test_df.drop(columns=['기온(°C)', '강수량(mm)', '풍속(m/s)', '습도(%)', 'PCS용량(kW)', 'ESS저장용량(kWh)', 'num_date_time'])\n",
    "    X_test_sel = scaler.transform(X_test)\n",
    "\n",
    "    y_pred_sel = model_sel.predict(X_test_sel)\n",
    "    submission_sel = test_df[['num_date_time']]\n",
    "    submission_sel['answer'] = y_pred_sel"
   ]
  },
  {
   "cell_type": "markdown",
   "id": "d2425f52-cb92-4da9-9ceb-1fc475b5d974",
   "metadata": {
    "id": "-uqSqcANF3F8"
   },
   "source": [
    "#### 데이터 저장"
   ]
  },
  {
   "cell_type": "code",
   "execution_count": 8,
   "id": "014c26c5-9bb1-4cc5-92bc-ba9d62eb4534",
   "metadata": {},
   "outputs": [],
   "source": [
    "import pandas as pd\n",
    "submission_all = pd.concat([submission_rest, submission_sel], axis=0)\n",
    "ndt = pd.read_csv('sample_submission.csv', encoding='utf-8-sig')\n",
    "submission = pd.merge(ndt, submission_all, on='num_date_time', how='left')"
   ]
  },
  {
   "cell_type": "code",
   "execution_count": 9,
   "id": "ceb1392d-8292-478a-aed4-81aa7c04dda0",
   "metadata": {},
   "outputs": [
    {
     "data": {
      "text/html": [
       "<div>\n",
       "<style scoped>\n",
       "    .dataframe tbody tr th:only-of-type {\n",
       "        vertical-align: middle;\n",
       "    }\n",
       "\n",
       "    .dataframe tbody tr th {\n",
       "        vertical-align: top;\n",
       "    }\n",
       "\n",
       "    .dataframe thead th {\n",
       "        text-align: right;\n",
       "    }\n",
       "</style>\n",
       "<table border=\"1\" class=\"dataframe\">\n",
       "  <thead>\n",
       "    <tr style=\"text-align: right;\">\n",
       "      <th></th>\n",
       "      <th>num_date_time</th>\n",
       "      <th>answer</th>\n",
       "    </tr>\n",
       "  </thead>\n",
       "  <tbody>\n",
       "    <tr>\n",
       "      <th>0</th>\n",
       "      <td>1_20240825 00</td>\n",
       "      <td>4183.69260</td>\n",
       "    </tr>\n",
       "    <tr>\n",
       "      <th>1</th>\n",
       "      <td>1_20240825 01</td>\n",
       "      <td>3763.41540</td>\n",
       "    </tr>\n",
       "    <tr>\n",
       "      <th>2</th>\n",
       "      <td>1_20240825 02</td>\n",
       "      <td>3873.48852</td>\n",
       "    </tr>\n",
       "    <tr>\n",
       "      <th>3</th>\n",
       "      <td>1_20240825 03</td>\n",
       "      <td>3602.63064</td>\n",
       "    </tr>\n",
       "    <tr>\n",
       "      <th>4</th>\n",
       "      <td>1_20240825 04</td>\n",
       "      <td>3610.88688</td>\n",
       "    </tr>\n",
       "    <tr>\n",
       "      <th>5</th>\n",
       "      <td>1_20240825 05</td>\n",
       "      <td>3661.40748</td>\n",
       "    </tr>\n",
       "    <tr>\n",
       "      <th>6</th>\n",
       "      <td>1_20240825 06</td>\n",
       "      <td>3691.16688</td>\n",
       "    </tr>\n",
       "    <tr>\n",
       "      <th>7</th>\n",
       "      <td>1_20240825 07</td>\n",
       "      <td>4387.59492</td>\n",
       "    </tr>\n",
       "    <tr>\n",
       "      <th>8</th>\n",
       "      <td>1_20240825 08</td>\n",
       "      <td>5138.40468</td>\n",
       "    </tr>\n",
       "    <tr>\n",
       "      <th>9</th>\n",
       "      <td>1_20240825 09</td>\n",
       "      <td>6352.03440</td>\n",
       "    </tr>\n",
       "  </tbody>\n",
       "</table>\n",
       "</div>"
      ],
      "text/plain": [
       "   num_date_time      answer\n",
       "0  1_20240825 00  4183.69260\n",
       "1  1_20240825 01  3763.41540\n",
       "2  1_20240825 02  3873.48852\n",
       "3  1_20240825 03  3602.63064\n",
       "4  1_20240825 04  3610.88688\n",
       "5  1_20240825 05  3661.40748\n",
       "6  1_20240825 06  3691.16688\n",
       "7  1_20240825 07  4387.59492\n",
       "8  1_20240825 08  5138.40468\n",
       "9  1_20240825 09  6352.03440"
      ]
     },
     "execution_count": 9,
     "metadata": {},
     "output_type": "execute_result"
    }
   ],
   "source": [
    "submission.head(10)"
   ]
  },
  {
   "cell_type": "code",
   "execution_count": 10,
   "id": "c85ff646-cb14-4ea7-9d97-b0e70fbf7786",
   "metadata": {},
   "outputs": [],
   "source": [
    "submission.to_csv('submission.csv', index=False)"
   ]
  }
 ],
 "metadata": {
  "kernelspec": {
   "display_name": "Python [conda env:base] *",
   "language": "python",
   "name": "conda-base-py"
  },
  "language_info": {
   "codemirror_mode": {
    "name": "ipython",
    "version": 3
   },
   "file_extension": ".py",
   "mimetype": "text/x-python",
   "name": "python",
   "nbconvert_exporter": "python",
   "pygments_lexer": "ipython3",
   "version": "3.13.5"
  }
 },
 "nbformat": 4,
 "nbformat_minor": 5
}
