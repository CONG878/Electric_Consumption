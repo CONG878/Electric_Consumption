{
 "cells": [
  {
   "cell_type": "code",
   "execution_count": 6,
   "id": "05fc0cea-2842-4790-a692-9ccf0262af6e",
   "metadata": {},
   "outputs": [],
   "source": [
    "import numpy as np\n",
    "\n",
    "def phase_analysis(A, B):\n",
    "    R = np.hypot(A, B)  # 진폭\n",
    "    phi = np.arctan2(B, A)  # 위상(rad)\n",
    "    # tau = (24 / (2 * np.pi)) * phi  # 시간 단위 (tau는 -12 ~ +12 범위)\n",
    "    tau = (7.0 / (2 * np.pi)) * phi  # 요일 단위 (tau는 -3.5~+3.5 범위)\n",
    "    return R, phi, tau"
   ]
  },
  {
   "cell_type": "code",
   "execution_count": 2,
   "id": "fe0f7006-ef74-47d3-baa9-f6368573b0b2",
   "metadata": {},
   "outputs": [
    {
     "data": {
      "text/plain": [
       "(np.float64(100.70619125338204),\n",
       " np.float64(-1.7082545174536112),\n",
       " np.float64(-1.9031400535826186))"
      ]
     },
     "execution_count": 2,
     "metadata": {},
     "output_type": "execute_result"
    }
   ],
   "source": [
    "# Acos(d) + Bsin(d)\n",
    "phase_analysis(-13.799339, -99.756279)"
   ]
  },
  {
   "cell_type": "code",
   "execution_count": 3,
   "id": "46e0f5f9-8141-41f6-846e-7abcc9eed029",
   "metadata": {},
   "outputs": [
    {
     "data": {
      "text/plain": [
       "(np.float64(29.256103131048263),\n",
       " np.float64(1.1399237800478528),\n",
       " np.float64(1.2699715303982997))"
      ]
     },
     "execution_count": 3,
     "metadata": {},
     "output_type": "execute_result"
    }
   ],
   "source": [
    "# Acos(3d) + Bsin(3d)\n",
    "phase_analysis(12.219214, 26.582144)"
   ]
  },
  {
   "cell_type": "code",
   "execution_count": 5,
   "id": "379bf11c-0cb2-4802-a516-f10608f0545e",
   "metadata": {},
   "outputs": [
    {
     "data": {
      "text/plain": [
       "(np.float64(482.799863000418),\n",
       " np.float64(-0.016109141642179508),\n",
       " np.float64(-0.061532388511688664))"
      ]
     },
     "execution_count": 5,
     "metadata": {},
     "output_type": "execute_result"
    }
   ],
   "source": [
    "# Acos(t) + Bsin(t)\n",
    "phase_analysis(482.737220, -7.777155)"
   ]
  },
  {
   "cell_type": "code",
   "execution_count": 7,
   "id": "c53f6623-6ea0-41ab-a08b-e46fa3a5ea84",
   "metadata": {},
   "outputs": [
    {
     "data": {
      "text/plain": [
       "(np.float64(482.799544811866),\n",
       " np.float64(-0.00040097180552008284),\n",
       " np.float64(-0.0015315994773360793))"
      ]
     },
     "execution_count": 7,
     "metadata": {},
     "output_type": "execute_result"
    }
   ],
   "source": [
    "# Acos(t) + Bsin(t)\n",
    "phase_analysis(482.799506, -0.193589)"
   ]
  },
  {
   "cell_type": "code",
   "execution_count": 8,
   "id": "12a286e3-68d3-413a-9238-e954d1ba411b",
   "metadata": {},
   "outputs": [
    {
     "data": {
      "text/plain": [
       "(np.float64(100.85602976959251),\n",
       " np.float64(-0.0031449534905731488),\n",
       " np.float64(-0.01201283745165185))"
      ]
     },
     "execution_count": 8,
     "metadata": {},
     "output_type": "execute_result"
    }
   ],
   "source": [
    "# Acos(d) + Bsin(d)\n",
    "phase_analysis(100.855531, -0.317187)"
   ]
  },
  {
   "cell_type": "code",
   "execution_count": 9,
   "id": "720fb001-e82e-4e87-bb53-390711192b93",
   "metadata": {},
   "outputs": [
    {
     "data": {
      "text/plain": [
       "(np.float64(29.15362061098115),\n",
       " np.float64(0.002779452521989572),\n",
       " np.float64(0.010616726591133009))"
      ]
     },
     "execution_count": 9,
     "metadata": {},
     "output_type": "execute_result"
    }
   ],
   "source": [
    "# Acos(3d) + Bsin(3d)\n",
    "phase_analysis(29.153508, 0.081031)"
   ]
  }
 ],
 "metadata": {
  "kernelspec": {
   "display_name": "Python [conda env:base] *",
   "language": "python",
   "name": "conda-base-py"
  },
  "language_info": {
   "codemirror_mode": {
    "name": "ipython",
    "version": 3
   },
   "file_extension": ".py",
   "mimetype": "text/x-python",
   "name": "python",
   "nbconvert_exporter": "python",
   "pygments_lexer": "ipython3",
   "version": "3.13.5"
  }
 },
 "nbformat": 4,
 "nbformat_minor": 5
}
